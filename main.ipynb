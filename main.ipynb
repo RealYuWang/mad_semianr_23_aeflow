{
 "cells": [
  {
   "cell_type": "code",
   "execution_count": null,
   "id": "initial_id",
   "metadata": {
    "ExecuteTime": {
     "end_time": "2024-01-30T15:14:52.428415700Z",
     "start_time": "2024-01-30T15:14:46.755207200Z"
    }
   },
   "outputs": [],
   "source": [
    "import matplotlib.pyplot as plt\n",
    "import pytorch_lightning as pl\n",
    "import matplotlib\n",
    "import torch\n",
    "import yaml\n",
    "\n",
    "from model.model import get_model\n",
    "from data_loader import TrainDataModule, get_all_test_dataloaders\n",
    "\n",
    "# autoreload imported modules\n",
    "%reload_ext autoreload\n",
    "%matplotlib inline"
   ]
  },
  {
   "cell_type": "code",
   "execution_count": null,
   "id": "2d3e2fa9c46a24ba",
   "metadata": {
    "ExecuteTime": {
     "end_time": "2024-01-30T15:14:54.854452900Z",
     "start_time": "2024-01-30T15:14:54.825722500Z"
    },
    "collapsed": false,
    "jupyter": {
     "outputs_hidden": false
    }
   },
   "outputs": [],
   "source": [
    "with open('./configs/ae_config.yaml', 'r') as f:\n",
    "    config = yaml.safe_load(f)\n",
    "\n",
    "# Reproducibility\n",
    "pl.seed_everything(config['seed'])"
   ]
  },
  {
   "cell_type": "code",
   "execution_count": null,
   "id": "9d3e80ea3e5c00d",
   "metadata": {
    "ExecuteTime": {
     "end_time": "2024-01-30T15:15:01.728248400Z",
     "start_time": "2024-01-30T15:15:01.487227600Z"
    },
    "collapsed": false,
    "jupyter": {
     "outputs_hidden": false
    }
   },
   "outputs": [],
   "source": [
    "# matplotlib.use('TkAgg')\n",
    "train_data_module = TrainDataModule(\n",
    "    split_dir=config['split_dir'],\n",
    "    target_size=config['target_size'],\n",
    "    batch_size=config['batch_size'])\n",
    "\n",
    "# Plot some images\n",
    "batch = next(iter(train_data_module.train_dataloader()))\n",
    "\n",
    "# Print statistics\n",
    "print(f\"Batch shape: {batch.shape}\")\n",
    "print(f\"Batch min: {batch.min()}\")\n",
    "print(f\"Batch max: {batch.max()}\")\n",
    "\n",
    "fig, ax = plt.subplots(1, 5, figsize=(15, 5))\n",
    "for i in range(5):\n",
    "    ax[i].imshow(batch[i].squeeze(), cmap='gray')\n",
    "    ax[i].axis('off')\n",
    "plt.show()"
   ]
  },
  {
   "cell_type": "code",
   "execution_count": null,
   "id": "4201a9a6d5167ee",
   "metadata": {
    "collapsed": false,
    "jupyter": {
     "outputs_hidden": false
    }
   },
   "outputs": [],
   "source": [
    "%load_ext tensorboard\n",
    "%tensorboard --logdir lightning_logs/"
   ]
  },
  {
   "cell_type": "code",
   "execution_count": null,
   "id": "bb486724b1a252ef",
   "metadata": {
    "collapsed": false,
    "jupyter": {
     "outputs_hidden": false
    }
   },
   "outputs": [],
   "source": [
    "# Init model\n",
    "model = get_model(config)\n",
    "\n",
    "# Use tensorboard logger and CSV logger\n",
    "trainer = pl.Trainer(\n",
    "    max_epochs=config['num_epochs'],\n",
    "    logger=[\n",
    "        pl.loggers.TensorBoardLogger(save_dir='./'),\n",
    "        pl.loggers.CSVLogger(save_dir='./')\n",
    "    ],\n",
    ")"
   ]
  },
  {
   "cell_type": "code",
   "execution_count": null,
   "id": "1452dc8697db0491",
   "metadata": {
    "collapsed": false,
    "jupyter": {
     "outputs_hidden": false
    },
    "scrolled": true
   },
   "outputs": [],
   "source": [
    "# Train the model\n",
    "trainer.fit(model, datamodule=train_data_module)"
   ]
  },
  {
   "cell_type": "code",
   "execution_count": null,
   "id": "f24a3e67c896be96",
   "metadata": {
    "collapsed": false,
    "jupyter": {
     "outputs_hidden": false
    }
   },
   "outputs": [],
   "source": [
    "# Reconstructions from the validation set\n",
    "batch = next(iter(train_data_module.val_dataloader()))\n",
    "\n",
    "with torch.inference_mode():\n",
    "    results = model.detect_anomaly(batch)\n",
    "    reconstructions = results['reconstruction']\n",
    "    anomaly_map = results['anomaly_map']\n",
    "\n",
    "# Plot images and reconstructions\n",
    "fig, ax = plt.subplots(3, 5, figsize=(15, 7))\n",
    "for i in range(5):\n",
    "    # Plot original image\n",
    "    ax[0][i].imshow(batch[i].squeeze(), cmap='gray')\n",
    "    ax[0][0].set_title('Original')\n",
    "    ax[0][i].axis('off')\n",
    "    # Plot reconstruction image\n",
    "    ax[1][i].imshow(reconstructions[i].squeeze(), cmap='gray')\n",
    "    ax[1][i].set_title('Reconstruction')\n",
    "    ax[1][i].axis('off')\n",
    "    # Plot anomaly map\n",
    "    ax[2][i].imshow(anomaly_map[i].squeeze(), cmap='plasma')\n",
    "    ax[2][i].set_title('Anomaly map')\n",
    "    ax[2][i].axis('off')"
   ]
  },
  {
   "cell_type": "code",
   "execution_count": null,
   "id": "de9631072ada1b83",
   "metadata": {
    "collapsed": false,
    "jupyter": {
     "outputs_hidden": false
    }
   },
   "outputs": [],
   "source": [
    "# Get test dataloaders\n",
    "test_dataloaders = get_all_test_dataloaders(config['split_dir'], config['target_size'], config['batch_size'])"
   ]
  },
  {
   "cell_type": "code",
   "execution_count": null,
   "id": "a76ecbd2a27b8d28",
   "metadata": {
    "collapsed": false,
    "jupyter": {
     "outputs_hidden": false
    }
   },
   "outputs": [],
   "source": [
    "diseases = ['absent_septum', 'edema', 'enlarged_ventricles', 'mass', 'dural']\n",
    "fig, ax = plt.subplots(3, len(diseases), figsize=(15, 5))\n",
    "for i in range(len(diseases)):\n",
    "    batch = next(iter(test_dataloaders[diseases[i]]))\n",
    "    inputs, pos_labels, neg_masks = batch\n",
    "    ax[0][i].imshow(inputs[i].squeeze(), cmap='gray')\n",
    "    ax[0][i].axis('off')\n",
    "    ax[1][i].imshow(pos_labels[i].squeeze(), cmap='gray')\n",
    "    ax[1][i].axis('off')\n",
    "    ax[2][i].imshow(neg_masks[i].squeeze(), cmap='gray')\n",
    "    ax[2][i].axis('off')\n",
    "    ax[0][i].set_title(diseases[i])"
   ]
  },
  {
   "cell_type": "code",
   "execution_count": null,
   "id": "772a4f2a7c15243e",
   "metadata": {
    "collapsed": false,
    "jupyter": {
     "outputs_hidden": false
    }
   },
   "outputs": [],
   "source": [
    "from evaluate import Evaluator\n",
    "evaluator = Evaluator(model, model.device, test_dataloaders)\n",
    "metrics, fig_metrics, fig_example = evaluator.evaluate()"
   ]
  },
  {
   "cell_type": "code",
   "execution_count": null,
   "id": "e57ac6aa53ffd512",
   "metadata": {
    "collapsed": false,
    "jupyter": {
     "outputs_hidden": false
    }
   },
   "outputs": [],
   "source": [
    "fig_metrics['F1']"
   ]
  },
  {
   "cell_type": "code",
   "execution_count": null,
   "id": "f75bae0b2686f15c",
   "metadata": {
    "collapsed": false,
    "jupyter": {
     "outputs_hidden": false
    }
   },
   "outputs": [],
   "source": [
    "fig_example"
   ]
  }
 ],
 "metadata": {
  "kernelspec": {
   "display_name": "Python 3 (ipykernel)",
   "language": "python",
   "name": "python3"
  },
  "language_info": {
   "codemirror_mode": {
    "name": "ipython",
    "version": 3
   },
   "file_extension": ".py",
   "mimetype": "text/x-python",
   "name": "python",
   "nbconvert_exporter": "python",
   "pygments_lexer": "ipython3",
   "version": "3.10.13"
  }
 },
 "nbformat": 4,
 "nbformat_minor": 5
}
